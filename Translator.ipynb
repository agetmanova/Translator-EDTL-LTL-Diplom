{
  "nbformat": 4,
  "nbformat_minor": 0,
  "metadata": {
    "colab": {
      "provenance": [],
      "authorship_tag": "ABX9TyPKBoefEWC/9dlxg1fUWmZG",
      "include_colab_link": true
    },
    "kernelspec": {
      "name": "python3",
      "display_name": "Python 3"
    },
    "language_info": {
      "name": "python"
    }
  },
  "cells": [
    {
      "cell_type": "markdown",
      "metadata": {
        "id": "view-in-github",
        "colab_type": "text"
      },
      "source": [
        "<a href=\"https://colab.research.google.com/github/agetmanova/Translator-EDTL-LTL-Diplom/blob/main/Translator.ipynb\" target=\"_parent\"><img src=\"https://colab.research.google.com/assets/colab-badge.svg\" alt=\"Open In Colab\"/></a>"
      ]
    },
    {
      "cell_type": "code",
      "execution_count": null,
      "metadata": {
        "id": "rYnHg57rdEmq"
      },
      "outputs": [],
      "source": [
        "def disSimpl(a, b):\n",
        "  if (a == True) or (b == True): return True;\n",
        "  elif (a == False): return b;\n",
        "  elif (b == False): return a;\n",
        "  #a ∨ a = a\n",
        "  elif ((type(a) != type(True)) and (type(b) != type(True)) and (a == b)):\n",
        "    rules[0][1]+=1;\n",
        "    return a;\n",
        "  #a ∨ (b ∧ (a ∨ c)) = a ∨ (b ∧ c)\n",
        "  elif (b.find('∧ ('+a+' ∨ ') >= 0):\n",
        "    b2 = b.replace('('+a+' ∨ ', '');\n",
        "    b2 = b2.replace( ')', '', 1);\n",
        "    rules[1][1]+=1;\n",
        "    return '(' +a+ ' ∨ ' +b2+ ')';\n",
        "  #a ∨ F(a ∨ b) = F(a ∨ b)\n",
        "  elif (b.find('F('+a+' ∨ ') >= 0): \n",
        "    rules[2][1]+=1;\n",
        "    return b;\n",
        "  #a ∨ (b U a) = (b U a)\n",
        "  elif ((b[0:1] == '(') and (b.find (' U '+a+')') >= 0)): \n",
        "    rules[3][1]+=1;\n",
        "    return b;\n",
        "  #G(¬a) ∨ F(a) = true\n",
        "  elif ((a[0:3] == 'G(¬') and (b[0:2] == 'F(') and (a[3:] == b[2:])): \n",
        "    rules[5][1]+=1;\n",
        "    return True;\n",
        "  #a ∨ F(a) = F(a)\n",
        "  elif ((b[0:2] == 'F(') and (b[2:-1] == a)): \n",
        "    rules[6][1]+=1;\n",
        "    return b;\n",
        "  elif (b.find(' ∧ '+a+')') > 0): \n",
        "    rules[8][1]+=1;\n",
        "    return a;\n",
        "  #a ∨ (a ∨ b) = a V b | a ∨ (b ∨ a) = a ∨ b\n",
        "  elif (b.find('('+a+' ∨ ') == 0): \n",
        "    rules[9][1]+=1;\n",
        "    return b;\n",
        "\n",
        "  #G(¬a) ∨ (F(a) ∨ (с)) = (с)\n",
        "  elif ((a[0:3] == 'G(¬') and (b[0:3] == '(F(') and (a[3:-1] == b[3:len(a[3:-1])+3]) and (b.find(') ∨ (') == len(a[3:-1])+3)): \n",
        "    rules[41][1]+=1;\n",
        "    return b[len(a[3:-1])+7:-1];\n",
        "\n",
        "  #a ∨ (b U (a ∨ c)) = (b U (a ∨ c))\n",
        "  elif (b.find(' U (' + a + ' ∨ ') > 0):\n",
        "    rules[43][1] +=1;\n",
        "    return b;\n",
        "\n",
        "  else: \n",
        "    return '(' +a+ ' ∨ ' +b+ ')'"
      ]
    },
    {
      "cell_type": "code",
      "source": [
        "def conSimpl(a, b):\n",
        "  if (a == False) or (b == False): return False;\n",
        "  elif (a == True): return b;\n",
        "  elif (b == True): return a;\n",
        "  \n",
        "  else: return '('+a+' ∧ '+b+')'"
      ],
      "metadata": {
        "id": "lhqevpf0dehl"
      },
      "execution_count": null,
      "outputs": []
    },
    {
      "cell_type": "code",
      "source": [
        "def no(a):\n",
        "  if (type(a) == type(True)): return not a;\n",
        "  \n",
        "  else: return \"¬\" + a;"
      ],
      "metadata": {
        "id": "_3shKGsxdiSv"
      },
      "execution_count": null,
      "outputs": []
    },
    {
      "cell_type": "code",
      "source": [
        "def implSimpl(a, b):\n",
        "  if ((type(a) == type(True)) or (type(b) == type(True))): return disSimpl(no(a),b);\n",
        "\n",
        "  else:  return '('+a+' → '+b+')'"
      ],
      "metadata": {
        "id": "iSKpXacvdlAS"
      },
      "execution_count": null,
      "outputs": []
    },
    {
      "cell_type": "code",
      "source": [
        "def FutureSimpl(a):\n",
        "  if (type(a) == type(True)): return a;\n",
        "  elif (a[0] != '('): return 'F('+a+')';\n",
        "  else: return 'F'+a+''"
      ],
      "metadata": {
        "id": "cmF8xkQtdrvO"
      },
      "execution_count": null,
      "outputs": []
    },
    {
      "cell_type": "code",
      "source": [
        "def GloballySimpl(a):\n",
        "  if (type(a) == type(True)): return a;\n",
        "  #G(F(a)) = GF(a)\n",
        "  elif ((a[0] == 'F') and (a[1] == '(') and (a[len(a)-1] == ')')): \n",
        "    rules[32][1]+=1;\n",
        "    return 'G'+a;\n",
        "  #G(G(a)) = G(a)\n",
        "  elif ((a[0] == 'G')and (a[1] == '(') and (a[len(a)-1] == ')')): \n",
        "    rules[33][1]+=1;\n",
        "    return a;\n",
        "\n",
        "  #51 G(G(a ∧ ¬b) ∨ (a U (b ∧ a))) = G(a)\n",
        "  elif((a[:3] == '(G(') and (a.find(' ∧ ¬') > 0) and (a.find(') ∨ (') > a.find(' ∧ ¬'))\n",
        "        and (a.find(a[3:a.find(' ∧ ¬')] + ' U (') > 0)\n",
        "        and (a.find(a[a.find(' ∧ ¬')+4:a.find(') ∨ (')] + ' ∧ ' + a[3:a.find(' ∧ ¬')]) > 0)):\n",
        "    rules[51][1] +=1;\n",
        "    return 'G(' + a[3:a.find(' ∧ ¬')] + ')';\n",
        "\n",
        "  #52 G(G(a ∧ ¬b) ∨ ((a ∧ ¬b) U (b ∧ (a U (a ∧ c))))) = G(a ∧ (G(¬b) ∨ F(b ∧ F(c))))\n",
        "  elif((a[:3] == '(G(') and (a.find(' ∧ ¬') > 0) and (a.find(') ∨ (') > a.find(' ∧ ¬'))\n",
        "        and (a.find(a[3:(a.find(') ∨ ('))] + ') U (' + a[a.find(' ∧ ¬')+4:a.find(') ∨ (')] +\n",
        "                    ' ∧ (' + a[3:a.find(' ∧ ¬')] + ' U (' + a[3:a.find(' ∧ ¬')] + ' ∧ ') > a.find(') ∨ (')) ):\n",
        "    a1 = a[3:a.find(' ∧ ¬')];\n",
        "    nb1 = a[a.find(' ∧ ¬')+3:a.find(') ∨ (')]\n",
        "    b1 = a[a.find(' ∧ ¬')+4:a.find(') ∨ (')]\n",
        "    \n",
        "    n ='G(' + a[3:a.find(' ∧ ¬')] + ' ∧ ¬' + a[a.find(' ∧ ¬')+4:a.find(') ∨ (')] + ') ∨ ((' + a[3:(a.find(') ∨ ('))] + ') U (' + a[a.find(' ∧ ¬')+4:a.find(') ∨ (')] + ' ∧ (' + a[3:a.find(' ∧ ¬')] + ' U (' + a[3:a.find(' ∧ ¬')] + ' ∧ '\n",
        "    t = a.find(n)\n",
        "    tlen = len(n)\n",
        "    c = a[tlen + 1:-5]\n",
        "\n",
        "    rules[52][1] +=1;\n",
        "    return 'G' + conSimpl(a1, disSimpl(GloballySimpl(nb1), FutureSimpl(disSimpl(b1, FutureSimpl(c)))))\n",
        "\n",
        "  #53 G(G(a ∧ ¬b) ∨ ((a ∧ ¬b) U (b ∧ (a ∧ c)))) = G(a ∧ (G(¬b) ∨ F(b ∧ c)))\n",
        "  elif((a[:3] == '(G(') and (a.find(' ∧ ¬') > 0) and (a.find(') ∨ (') > a.find(' ∧ ¬'))\n",
        "        and (a.find(a[3:(a.find(') ∨ ('))] + ') U (' + a[a.find(' ∧ ¬')+4:a.find(') ∨ (')] +\n",
        "                    ' ∧ (' + a[3:a.find(' ∧ ¬')] + ' ∧ ') > a.find(') ∨ (')) ):\n",
        "    a1 = a[3:a.find(' ∧ ¬')];\n",
        "    nb1 = a[a.find(' ∧ ¬')+3:a.find(') ∨ (')]\n",
        "    b1 = a[a.find(' ∧ ¬')+4:a.find(') ∨ (')]\n",
        "\n",
        "    n ='G(' + a[3:a.find(' ∧ ¬')] + ' ∧ ¬' + a[a.find(' ∧ ¬')+4:a.find(') ∨ (')] + ') ∨ ((' + a[3:(a.find(') ∨ ('))] + ') U (' + a[a.find(' ∧ ¬')+4:a.find(') ∨ (')] + ' ∧ (' + a[3:a.find(' ∧ ¬')] + ' ∧ '\n",
        "    t = a.find(n)\n",
        "    tlen = len(n)\n",
        "    c = a[tlen + 1:-4]\n",
        "\n",
        "    rules[53][1] +=1;\n",
        "    return 'G' + conSimpl(a1, disSimpl(GloballySimpl(nb1), FutureSimpl(disSimpl(b1, c))));\n",
        "\n",
        "  #44 G(G(a) ∨ (a U b)) = G(a ∧ F(b))\n",
        "  elif ((a[0:3] == '(G(') and (a.find(') ∨ (') > 0) and (a.find(a[3:a.find(') ∨ (')] + ' U '))):\n",
        "    rules[44][1] +=1;\n",
        "    return GloballySimpl(conSimpl(a[3:a.find(') ∨ (')], FutureSimpl(a[a.find(' U ')+3:-2])))\n",
        "  \n",
        "  #45 G((a ∧ b) U (a ∧ c)) = G(a ∧ (b U c))\n",
        "  elif ((a[0:2] == '((') and (a.find(' ∧ ') > 0) and (a.find(') U (') > a.find(' ∧ ')) \n",
        "          and (a[2:a.find(' ∧ ')] == a[a.find(') U (')+5:a.find(' ∧ ', a.find(' ∧ ') + 1)])):\n",
        "    rules[45][1] +=1;\n",
        "    b = a[a.find(' ∧ ') + 3: a.find(') U (')]\n",
        "    c = a[a.find(' ∧ ', a.find(' ∧ ') + 1) + 3:-2]\n",
        "    a1 = a[2:a.find(' ∧ ')]   \n",
        "    return GloballySimpl(conSimpl(a1, UntilSimpl(b,c)));\n",
        "    \n",
        "  elif (a[0] != '('): return 'G('+a+')';\n",
        "  else: return 'G'+a;"
      ],
      "metadata": {
        "id": "b55pbXaQdwHb"
      },
      "execution_count": null,
      "outputs": []
    },
    {
      "cell_type": "code",
      "source": [
        "def UntilSimpl(a, b):\n",
        "  if (b == False): return False;\n",
        "  elif (b == True): return True;\n",
        "  elif ((a == False) and (type(b) != type(True))): return b;\n",
        "  elif ((a == True) and (type(b) != type(True))): return FutureSimpl(b);\n",
        "\n",
        "  #a U a = a\n",
        "  elif (a == b):\n",
        "    rules[34][1] +=1;\n",
        "    return a;\n",
        "\n",
        "  # ¬a U a = F(a)\n",
        "  elif((a.find('¬') == 0) and (b == a[1:])):\n",
        "    rules[35][1] +=1;\n",
        "    return FutureSimpl(b);\n",
        "\n",
        "  #¬a U (b ∨ a) = F(a) ∨ (¬a U b)\n",
        "  elif ((a[0] == '¬') and (b.find ('∨ ' + a[1:]) > 0)):\n",
        "    rules[42][1]+=1;\n",
        "    b1 = b[1:(b.find ('∨ ' + a[1:]))-1];\n",
        "    return disSimpl(FutureSimpl(a[1:]), UntilSimpl(a, b1));\n",
        "\n",
        "  #46 (a ∧ b) U (c ∨ a) = a ∨ ((a ∧ b) U c)\n",
        "  elif ((a.find(' ∧ ') > 0) and (b.find(' ∨ ') > 0) and (a[1:a.find(' ∧ ')] == b[b.find(' ∨ ')+3:-1])):\n",
        "    rules[46][1] +=1;\n",
        "    c = UntilSimpl(a, b[1:b.find(' ∨ ')]);\n",
        "    return disSimpl(a[1:a.find(' ∧ ')], c);\n",
        "\n",
        "  #47 (a ∧ b) U a = a\n",
        "  elif(a.find('(' + b + ' ∧ ') == 0):\n",
        "    rules[47][1] +=1;\n",
        "    return b;\n",
        "\n",
        "  #48 a U (b ∨ a) = a ∨ (a U b)\n",
        "  elif (b.find(' ∨ ' + a + ')') > 0):\n",
        "    rules[48][1] +=1;\n",
        "    return disSimpl(a, UntilSimpl(a, b[1:b.find(' ∨ ')]));\n",
        "\n",
        "  #50 (a ∧ ¬b) U (b ∧ a) = a U (b ∧ a)\n",
        "  elif ((a.find(' ∧ ') > 0) and (b.find(' ∧ ') > 0) \n",
        "        and (a[1:a.find(' ∧ ')] == b[b.find(' ∧ ')+3:-1])\n",
        "        and (a[a.find(' ∧ ')+3] == '¬') \n",
        "        and (b[1:b.find(' ∧ ')] == a[a.find(' ∧ ')+4:-1])):\n",
        "    rules[50][1] +=1;\n",
        "    return UntilSimpl(a[1:a.find(' ∧ ')], b)\n",
        "\n",
        "  else: return '('+a+' U '+b+')' "
      ],
      "metadata": {
        "id": "AvLLcjrAd14d"
      },
      "execution_count": null,
      "outputs": []
    },
    {
      "cell_type": "code",
      "source": [
        "def WeakUntil(a, b):\n",
        "  if ((type(a) == type(True)) and (type(b) == type(True))):\n",
        "    if ((a == False) and (b == False)): return False;\n",
        "    else: return True;\n",
        "  elif ((type(b) != type(True)) and (type(a) != type(True))): return '('+a+' W '+b+')';\n",
        "  elif (type(b) != type(True)):\n",
        "    if (a == False): return b;\n",
        "    elif (a == True): return True;\n",
        "  elif (type(a) != type(True)):\n",
        "    if (b == True): return True;\n",
        "    elif (b == False): return Globally(a);"
      ],
      "metadata": {
        "id": "2qWzrPV-d7Rb"
      },
      "execution_count": null,
      "outputs": []
    },
    {
      "cell_type": "code",
      "source": [
        "import pandas as pd\n",
        "import numpy as np\n",
        "from matplotlib import pyplot as plt \n",
        "\n",
        "data_frame = pd.read_csv('atributs.csv', encoding='utf8')\n",
        "\n",
        "data_frame"
      ],
      "metadata": {
        "id": "2vewwC0-d7Nv"
      },
      "execution_count": null,
      "outputs": []
    },
    {
      "cell_type": "code",
      "source": [
        "def konv(a_txt):\n",
        "  if (a_txt == 'true*'): return True;\n",
        "  elif (a_txt == 'false*'): return False;\n",
        "  else: return a_txt;"
      ],
      "metadata": {
        "id": "1a7JiZy1egGg"
      },
      "execution_count": null,
      "outputs": []
    },
    {
      "cell_type": "code",
      "source": [
        "def BoolToString(a):\n",
        "  if (type(a) == type(True)): \n",
        "    if (a == True): return \"true\";\n",
        "    elif (a == False): return \"false\";\n",
        "  else: return a;"
      ],
      "metadata": {
        "id": "1-_LhD5TejVW"
      },
      "execution_count": null,
      "outputs": []
    },
    {
      "cell_type": "code",
      "source": [
        "a = 12\n",
        "mas = [] \n",
        "for i1 in range(243): \n",
        "    mas.append([0] * a)\n",
        "\n",
        "\n",
        "for i in data_frame.index:\n",
        "  release_txt = data_frame['release'][i]\n",
        "  delay_txt = data_frame['delay'][i]\n",
        "  final_txt =  data_frame['final'][i]\n",
        "  reaction_txt =  data_frame['reaction'][i]\n",
        "  invariant_txt =  data_frame['invariant'][i]\n",
        "\n",
        "  triggerVAR_txt = data_frame['trigerVAR'][i];\n",
        "  triggerTrue_txt = data_frame['trigerTRUE'][i];\n",
        "\n",
        "  release = konv(release_txt);\n",
        "  delay = konv(delay_txt);\n",
        "  final = konv(final_txt);\n",
        "  reaction = konv(reaction_txt);\n",
        "  invariant = konv(invariant_txt);\n",
        "\n",
        "  trigger = 'trig'\n",
        "  x0 = con(trigger, no(release));\n",
        "  x1 = con(invariant, reaction);\n",
        "  x2 = dis(release, x1);\n",
        "  x3 = con(invariant, no(delay));\n",
        "  x4 = Until(x3, x2);\n",
        "  x5 = con(final, x4);\n",
        "  x6 = dis(release, x5)\n",
        "  x7 = con(invariant, no(final));\n",
        "  x8 = Until(x7, x6);\n",
        "\n",
        "  x9 = con(invariant, no(final));\n",
        "  x10 = Globally(x9);\n",
        "  x11 = dis(x10, x8);\n",
        "  x12 = con(invariant, x11);\n",
        "  x13 = impl(x0, x12);\n",
        "  x14 = Globally(x13);\n",
        "\n",
        "  \n",
        "  trigger = True\n",
        "  \n",
        "  y0 = con(trigger, no(release));\n",
        "  y1 = con(invariant, reaction);\n",
        "  y2 = dis(release, y1);\n",
        "  y3 = con(invariant, no(delay));\n",
        "  y4 = Until(y3, y2);\n",
        "  y5 = con(final, y4);\n",
        "  y6 = dis(release, y5)\n",
        "  y7 = con(invariant, no(final));\n",
        "  y8 = Until(y7, y6);\n",
        "  y9 = con(invariant, no(final));\n",
        "\n",
        "  y10 = Globally(y9);\n",
        "  y11 = dis(y10, y8);\n",
        "  y12 = con(invariant, y11);\n",
        "  y13 = impl(y0, y12);\n",
        "  y14 = Globally(y13);\n",
        "\n",
        "  trigger = False\n",
        "  z1 = True;\n",
        "  \n",
        "  mas[i][0]=BoolToString(release);\n",
        "  mas[i][1]=BoolToString(delay);\n",
        "  mas[i][2]=BoolToString(final);\n",
        "  mas[i][3]=BoolToString(reaction);\n",
        "  mas[i][4]=BoolToString(invariant);\n",
        "\n",
        "  mas[i][5]=BoolToString(x14);\n",
        "  mas[i][6]=BoolToString(y14);\n",
        "  mas[i][7]=BoolToString(z1);\n",
        "\n",
        "for i in range(0, len(mas)):\n",
        "    for i2 in range(0, len(mas[i])):\n",
        "        print(mas[i][i2], end=' ')\n",
        "    print()\n",
        "\n",
        "\n",
        "from openpyxl import Workbook\n",
        "wb = Workbook()\n",
        "ws = wb.active\n",
        "\n",
        "\n",
        "for subarray in mas:\n",
        "    ws.append(subarray)\n",
        "wb.save('./edtl-ltl.xlsx')"
      ],
      "metadata": {
        "id": "fylXca4GeuY3"
      },
      "execution_count": null,
      "outputs": []
    }
  ]
}